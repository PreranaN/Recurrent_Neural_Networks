{
 "cells": [
  {
   "cell_type": "markdown",
   "metadata": {},
   "source": [
    "## Infosys stock price prediction"
   ]
  },
  {
   "cell_type": "markdown",
   "metadata": {},
   "source": [
    "#### The prediction of the market value is of great importance to help in maximizing the profit of stock option purchase while keeping the risk low. Recurrent neural networks (RNN) have proved one of the most powerful models for processing sequential data. Long Short-Term memory is one of the most successful RNNs architectures. LSTM introduces the memory cell, a unit of computation that replaces traditional artificial neurons in the hidden layer of the network. With these memory cells, networks are able to effectively associate memories and input remote in time, hence suit to grasp the structure of data dynamically over time with high prediction capacity."
   ]
  },
  {
   "cell_type": "markdown",
   "metadata": {},
   "source": [
    "#### Importing the necessary libraries and data "
   ]
  },
  {
   "cell_type": "code",
   "execution_count": 10,
   "metadata": {},
   "outputs": [],
   "source": [
    "import numpy as np\n",
    "import pandas as pd\n",
    "from matplotlib import pyplot as plt\n",
    "%matplotlib inline"
   ]
  },
  {
   "cell_type": "code",
   "execution_count": 11,
   "metadata": {},
   "outputs": [
    {
     "name": "stdout",
     "output_type": "stream",
     "text": [
      "<class 'pandas.core.frame.DataFrame'>\n",
      "RangeIndex: 2175 entries, 0 to 2174\n",
      "Data columns (total 7 columns):\n",
      "Date            2175 non-null datetime64[ns]\n",
      "Open            2175 non-null object\n",
      "High            2173 non-null float64\n",
      "Low             2173 non-null float64\n",
      "Close*          2173 non-null float64\n",
      "Adj. close**    2173 non-null float64\n",
      "Volume          2173 non-null float64\n",
      "dtypes: datetime64[ns](1), float64(5), object(1)\n",
      "memory usage: 119.0+ KB\n",
      "None\n",
      "<class 'pandas.core.frame.DataFrame'>\n",
      "RangeIndex: 40 entries, 0 to 39\n",
      "Data columns (total 7 columns):\n",
      "Date            40 non-null datetime64[ns]\n",
      "Open            40 non-null float64\n",
      "High            40 non-null float64\n",
      "Low             40 non-null float64\n",
      "Close*          40 non-null float64\n",
      "Adj. close**    40 non-null float64\n",
      "Volume          40 non-null int64\n",
      "dtypes: datetime64[ns](1), float64(5), int64(1)\n",
      "memory usage: 2.3 KB\n",
      "None\n"
     ]
    },
    {
     "data": {
      "text/html": [
       "<div>\n",
       "<style scoped>\n",
       "    .dataframe tbody tr th:only-of-type {\n",
       "        vertical-align: middle;\n",
       "    }\n",
       "\n",
       "    .dataframe tbody tr th {\n",
       "        vertical-align: top;\n",
       "    }\n",
       "\n",
       "    .dataframe thead th {\n",
       "        text-align: right;\n",
       "    }\n",
       "</style>\n",
       "<table border=\"1\" class=\"dataframe\">\n",
       "  <thead>\n",
       "    <tr style=\"text-align: right;\">\n",
       "      <th></th>\n",
       "      <th>Date</th>\n",
       "      <th>Open</th>\n",
       "      <th>High</th>\n",
       "      <th>Low</th>\n",
       "      <th>Close*</th>\n",
       "      <th>Adj. close**</th>\n",
       "      <th>Volume</th>\n",
       "    </tr>\n",
       "  </thead>\n",
       "  <tbody>\n",
       "    <tr>\n",
       "      <th>0</th>\n",
       "      <td>2019-05-31</td>\n",
       "      <td>736.5</td>\n",
       "      <td>742.95</td>\n",
       "      <td>733.20</td>\n",
       "      <td>737.75</td>\n",
       "      <td>727.47</td>\n",
       "      <td>8290306.0</td>\n",
       "    </tr>\n",
       "    <tr>\n",
       "      <th>1</th>\n",
       "      <td>2019-05-30</td>\n",
       "      <td>727</td>\n",
       "      <td>737.25</td>\n",
       "      <td>722.55</td>\n",
       "      <td>733.55</td>\n",
       "      <td>723.33</td>\n",
       "      <td>15089296.0</td>\n",
       "    </tr>\n",
       "    <tr>\n",
       "      <th>2</th>\n",
       "      <td>2019-05-29</td>\n",
       "      <td>725.5</td>\n",
       "      <td>733.65</td>\n",
       "      <td>723.65</td>\n",
       "      <td>727.80</td>\n",
       "      <td>717.66</td>\n",
       "      <td>10293077.0</td>\n",
       "    </tr>\n",
       "    <tr>\n",
       "      <th>3</th>\n",
       "      <td>2019-05-28</td>\n",
       "      <td>712</td>\n",
       "      <td>733.45</td>\n",
       "      <td>709.80</td>\n",
       "      <td>728.10</td>\n",
       "      <td>717.96</td>\n",
       "      <td>23860490.0</td>\n",
       "    </tr>\n",
       "    <tr>\n",
       "      <th>4</th>\n",
       "      <td>2019-05-27</td>\n",
       "      <td>707.4</td>\n",
       "      <td>713.80</td>\n",
       "      <td>705.50</td>\n",
       "      <td>708.10</td>\n",
       "      <td>698.24</td>\n",
       "      <td>10247544.0</td>\n",
       "    </tr>\n",
       "  </tbody>\n",
       "</table>\n",
       "</div>"
      ],
      "text/plain": [
       "        Date   Open    High     Low  Close*  Adj. close**      Volume\n",
       "0 2019-05-31  736.5  742.95  733.20  737.75        727.47   8290306.0\n",
       "1 2019-05-30    727  737.25  722.55  733.55        723.33  15089296.0\n",
       "2 2019-05-29  725.5  733.65  723.65  727.80        717.66  10293077.0\n",
       "3 2019-05-28    712  733.45  709.80  728.10        717.96  23860490.0\n",
       "4 2019-05-27  707.4  713.80  705.50  708.10        698.24  10247544.0"
      ]
     },
     "execution_count": 11,
     "metadata": {},
     "output_type": "execute_result"
    }
   ],
   "source": [
    "dataset_train=pd.read_excel('Desktop/Data Science/Infosys_train.xlsx')\n",
    "dataset_test=pd.read_excel('Desktop/Data Science/Infosys_test.xlsx')\n",
    "print(dataset_train.info())\n",
    "print(dataset_test.info())\n",
    "dataset_train.head()"
   ]
  },
  {
   "cell_type": "markdown",
   "metadata": {},
   "source": [
    "#### We have taken train and test data as dataset_train and dataset_test respectively. There are 7 columns namely Date, Open price,  Highest value for the day, Lowest value for the day, Close price, Adjusted close value and Volume."
   ]
  },
  {
   "cell_type": "markdown",
   "metadata": {},
   "source": [
    "#### We can see that there are a few null values in the train data, hence we remove them "
   ]
  },
  {
   "cell_type": "code",
   "execution_count": 12,
   "metadata": {},
   "outputs": [
    {
     "name": "stdout",
     "output_type": "stream",
     "text": [
      "<class 'pandas.core.frame.DataFrame'>\n",
      "Int64Index: 2173 entries, 0 to 2174\n",
      "Data columns (total 7 columns):\n",
      "Date            2173 non-null datetime64[ns]\n",
      "Open            2173 non-null object\n",
      "High            2173 non-null float64\n",
      "Low             2173 non-null float64\n",
      "Close*          2173 non-null float64\n",
      "Adj. close**    2173 non-null float64\n",
      "Volume          2173 non-null float64\n",
      "dtypes: datetime64[ns](1), float64(5), object(1)\n",
      "memory usage: 135.8+ KB\n",
      "None\n"
     ]
    },
    {
     "data": {
      "text/plain": [
       "(2173, 7)"
      ]
     },
     "execution_count": 12,
     "metadata": {},
     "output_type": "execute_result"
    }
   ],
   "source": [
    "dataset_train=dataset_train.replace('-',np.nan)\n",
    "dataset_train=dataset_train.dropna()\n",
    "print(dataset_train.info())\n",
    "dataset_train.shape"
   ]
  },
  {
   "cell_type": "markdown",
   "metadata": {},
   "source": [
    "#### We take only the Open price for our analysis "
   ]
  },
  {
   "cell_type": "code",
   "execution_count": 13,
   "metadata": {},
   "outputs": [],
   "source": [
    "training_set = dataset_train.iloc[:, 1:2].values"
   ]
  },
  {
   "cell_type": "code",
   "execution_count": 14,
   "metadata": {},
   "outputs": [
    {
     "data": {
      "text/plain": [
       "[<matplotlib.lines.Line2D at 0x2409cacdb38>]"
      ]
     },
     "execution_count": 14,
     "metadata": {},
     "output_type": "execute_result"
    },
    {
     "data": {
      "image/png": "[encoded data removed]",
      "text/plain": [
       "<Figure size 432x288 with 1 Axes>"
      ]
     },
     "metadata": {
      "needs_background": "light"
     },
     "output_type": "display_data"
    }
   ],
   "source": [
    "plt.plot(training_set, color = 'red', label = ' Stock Price')"
   ]
  },
  {
   "cell_type": "code",
   "execution_count": 15,
   "metadata": {},
   "outputs": [
    {
     "name": "stderr",
     "output_type": "stream",
     "text": [
      "C:\\Users\\Vivek\\Anaconda3\\lib\\site-packages\\sklearn\\utils\\validation.py:595: DataConversionWarning: Data with input dtype object was converted to float64 by MinMaxScaler.\n",
      "  warnings.warn(msg, DataConversionWarning)\n"
     ]
    },
    {
     "data": {
      "text/plain": [
       "array([[0.933  ],\n",
       "       [0.914  ],\n",
       "       [0.911  ],\n",
       "       ...,\n",
       "       [0.16126],\n",
       "       [0.16   ],\n",
       "       [0.16376]])"
      ]
     },
     "execution_count": 15,
     "metadata": {},
     "output_type": "execute_result"
    }
   ],
   "source": [
    "# Feature Scaling\n",
    "from sklearn.preprocessing import MinMaxScaler\n",
    "sc = MinMaxScaler(feature_range = (0, 1))\n",
    "training_set_scaled = sc.fit_transform(training_set)\n",
    "training_set_scaled"
   ]
  },
  {
   "cell_type": "markdown",
   "metadata": {},
   "source": [
    "#### Creating a data structure with 60 timesteps and 1 output"
   ]
  },
  {
   "cell_type": "code",
   "execution_count": 16,
   "metadata": {},
   "outputs": [],
   "source": [
    "X_train = []\n",
    "y_train = []\n",
    "for i in range(60, 2173):\n",
    "    X_train.append(training_set_scaled[i-60:i, 0])\n",
    "    y_train.append(training_set_scaled[i, 0])\n",
    "X_train, y_train = np.array(X_train), np.array(y_train)"
   ]
  },
  {
   "cell_type": "code",
   "execution_count": 17,
   "metadata": {},
   "outputs": [
    {
     "data": {
      "text/plain": [
       "(2113, 60, 1)"
      ]
     },
     "execution_count": 17,
     "metadata": {},
     "output_type": "execute_result"
    }
   ],
   "source": [
    "# Reshaping\n",
    "X_train = np.reshape(X_train, (X_train.shape[0], X_train.shape[1], 1))\n",
    "X_train.shape"
   ]
  },
  {
   "cell_type": "markdown",
   "metadata": {},
   "source": [
    "#### Importing the Keras libraries and packages"
   ]
  },
  {
   "cell_type": "code",
   "execution_count": 18,
   "metadata": {},
   "outputs": [],
   "source": [
    "#Building the RNN\n",
    "from keras.models import Sequential\n",
    "from keras.layers import Dense\n",
    "from keras.layers import LSTM\n",
    "from keras.layers import Dropout"
   ]
  },
  {
   "cell_type": "code",
   "execution_count": 19,
   "metadata": {},
   "outputs": [],
   "source": [
    "# Initialising the RNN\n",
    "regressor = Sequential()"
   ]
  },
  {
   "cell_type": "code",
   "execution_count": 20,
   "metadata": {},
   "outputs": [
    {
     "name": "stdout",
     "output_type": "stream",
     "text": [
      "WARNING:tensorflow:From C:\\Users\\Vivek\\Anaconda3\\lib\\site-packages\\tensorflow\\python\\framework\\op_def_library.py:263: colocate_with (from tensorflow.python.framework.ops) is deprecated and will be removed in a future version.\n",
      "Instructions for updating:\n",
      "Colocations handled automatically by placer.\n",
      "WARNING:tensorflow:From C:\\Users\\Vivek\\Anaconda3\\lib\\site-packages\\keras\\backend\\tensorflow_backend.py:3445: calling dropout (from tensorflow.python.ops.nn_ops) with keep_prob is deprecated and will be removed in a future version.\n",
      "Instructions for updating:\n",
      "Please use `rate` instead of `keep_prob`. Rate should be set to `rate = 1 - keep_prob`.\n"
     ]
    }
   ],
   "source": [
    "# Adding the first LSTM layer and some Dropout regularisation\n",
    "regressor.add(LSTM(units = 50, return_sequences = True, input_shape = (X_train.shape[1], 1)))\n",
    "regressor.add(Dropout(0.2))"
   ]
  },
  {
   "cell_type": "code",
   "execution_count": 21,
   "metadata": {},
   "outputs": [],
   "source": [
    "# Adding a second LSTM layer and some Dropout regularisation\n",
    "regressor.add(LSTM(units = 50, return_sequences = True))\n",
    "regressor.add(Dropout(0.2))"
   ]
  },
  {
   "cell_type": "code",
   "execution_count": 22,
   "metadata": {},
   "outputs": [],
   "source": [
    "# Adding a third LSTM layer and some Dropout regularisation\n",
    "regressor.add(LSTM(units = 50, return_sequences = True))\n",
    "regressor.add(Dropout(0.2))"
   ]
  },
  {
   "cell_type": "code",
   "execution_count": 23,
   "metadata": {},
   "outputs": [],
   "source": [
    "# Adding a fourth LSTM layer and some Dropout regularisation\n",
    "regressor.add(LSTM(units = 50))\n",
    "regressor.add(Dropout(0.2))"
   ]
  },
  {
   "cell_type": "code",
   "execution_count": 24,
   "metadata": {},
   "outputs": [],
   "source": [
    "# Adding the output layer\n",
    "regressor.add(Dense(units = 1))"
   ]
  },
  {
   "cell_type": "code",
   "execution_count": 25,
   "metadata": {},
   "outputs": [],
   "source": [
    "# Compiling the RNN\n",
    "regressor.compile(optimizer = 'adam', loss = 'mean_squared_error')"
   ]
  },
  {
   "cell_type": "code",
   "execution_count": 26,
   "metadata": {},
   "outputs": [
    {
     "data": {
      "text/plain": [
       "(2113, 60, 1)"
      ]
     },
     "execution_count": 26,
     "metadata": {},
     "output_type": "execute_result"
    }
   ],
   "source": [
    "X_train.shape"
   ]
  },
  {
   "cell_type": "code",
   "execution_count": 27,
   "metadata": {},
   "outputs": [
    {
     "name": "stdout",
     "output_type": "stream",
     "text": [
      "WARNING:tensorflow:From C:\\Users\\Vivek\\Anaconda3\\lib\\site-packages\\tensorflow\\python\\ops\\math_ops.py:3066: to_int32 (from tensorflow.python.ops.math_ops) is deprecated and will be removed in a future version.\n",
      "Instructions for updating:\n",
      "Use tf.cast instead.\n",
      "Epoch 1/100\n",
      "2113/2113 [==============================] - 22s 10ms/step - loss: 0.0239\n",
      "Epoch 2/100\n",
      "2113/2113 [==============================] - 14s 7ms/step - loss: 0.0042\n",
      "Epoch 3/100\n",
      "2113/2113 [==============================] - 14s 7ms/step - loss: 0.0041\n",
      "Epoch 4/100\n",
      "2113/2113 [==============================] - 14s 6ms/step - loss: 0.0038\n",
      "Epoch 5/100\n",
      "2113/2113 [==============================] - 13s 6ms/step - loss: 0.0037\n",
      "Epoch 6/100\n",
      "2113/2113 [==============================] - 14s 6ms/step - loss: 0.0031\n",
      "Epoch 7/100\n",
      "2113/2113 [==============================] - 13s 6ms/step - loss: 0.0031\n",
      "Epoch 8/100\n",
      "2113/2113 [==============================] - 14s 6ms/step - loss: 0.0031\n",
      "Epoch 9/100\n",
      "2113/2113 [==============================] - 13s 6ms/step - loss: 0.0031\n",
      "Epoch 10/100\n",
      "2113/2113 [==============================] - 13s 6ms/step - loss: 0.0027\n",
      "Epoch 11/100\n",
      "2113/2113 [==============================] - 13s 6ms/step - loss: 0.0030\n",
      "Epoch 12/100\n",
      "2113/2113 [==============================] - 14s 7ms/step - loss: 0.0026\n",
      "Epoch 13/100\n",
      "2113/2113 [==============================] - 13s 6ms/step - loss: 0.0026\n",
      "Epoch 14/100\n",
      "2113/2113 [==============================] - 13s 6ms/step - loss: 0.0025\n",
      "Epoch 15/100\n",
      "2113/2113 [==============================] - 14s 6ms/step - loss: 0.0024\n",
      "Epoch 16/100\n",
      "2113/2113 [==============================] - 14s 7ms/step - loss: 0.0026\n",
      "Epoch 17/100\n",
      "2113/2113 [==============================] - 14s 7ms/step - loss: 0.0022\n",
      "Epoch 18/100\n",
      "2113/2113 [==============================] - 14s 6ms/step - loss: 0.0020\n",
      "Epoch 19/100\n",
      "2113/2113 [==============================] - 13s 6ms/step - loss: 0.0022\n",
      "Epoch 20/100\n",
      "2113/2113 [==============================] - 15s 7ms/step - loss: 0.0021\n",
      "Epoch 21/100\n",
      "2113/2113 [==============================] - 14s 7ms/step - loss: 0.0019\n",
      "Epoch 22/100\n",
      "2113/2113 [==============================] - 14s 7ms/step - loss: 0.0019\n",
      "Epoch 23/100\n",
      "2113/2113 [==============================] - 15s 7ms/step - loss: 0.0020\n",
      "Epoch 24/100\n",
      "2113/2113 [==============================] - 14s 7ms/step - loss: 0.0020\n",
      "Epoch 25/100\n",
      "2113/2113 [==============================] - 14s 7ms/step - loss: 0.0022\n",
      "Epoch 26/100\n",
      "2113/2113 [==============================] - 14s 7ms/step - loss: 0.0022\n",
      "Epoch 27/100\n",
      "2113/2113 [==============================] - 14s 7ms/step - loss: 0.0016\n",
      "Epoch 28/100\n",
      "2113/2113 [==============================] - 14s 7ms/step - loss: 0.0015\n",
      "Epoch 29/100\n",
      "2113/2113 [==============================] - 14s 7ms/step - loss: 0.0015\n",
      "Epoch 30/100\n",
      "2113/2113 [==============================] - 16s 8ms/step - loss: 0.0016\n",
      "Epoch 31/100\n",
      "2113/2113 [==============================] - 16s 8ms/step - loss: 0.0015\n",
      "Epoch 32/100\n",
      "2113/2113 [==============================] - 16s 8ms/step - loss: 0.0017\n",
      "Epoch 33/100\n",
      "2113/2113 [==============================] - 16s 8ms/step - loss: 0.0014\n",
      "Epoch 34/100\n",
      "2113/2113 [==============================] - 16s 8ms/step - loss: 0.0017\n",
      "Epoch 35/100\n",
      "2113/2113 [==============================] - 16s 8ms/step - loss: 0.0013\n",
      "Epoch 36/100\n",
      "2113/2113 [==============================] - 16s 8ms/step - loss: 0.0014\n",
      "Epoch 37/100\n",
      "2113/2113 [==============================] - 16s 8ms/step - loss: 0.0016\n",
      "Epoch 38/100\n",
      "2113/2113 [==============================] - 15s 7ms/step - loss: 0.0014\n",
      "Epoch 39/100\n",
      "2113/2113 [==============================] - 16s 7ms/step - loss: 0.0013\n",
      "Epoch 40/100\n",
      "2113/2113 [==============================] - 16s 8ms/step - loss: 0.0013\n",
      "Epoch 41/100\n",
      "2113/2113 [==============================] - 17s 8ms/step - loss: 0.0012\n",
      "Epoch 42/100\n",
      "2113/2113 [==============================] - 17s 8ms/step - loss: 0.0012\n",
      "Epoch 43/100\n",
      "2113/2113 [==============================] - 14s 7ms/step - loss: 0.0016\n",
      "Epoch 44/100\n",
      "2113/2113 [==============================] - 14s 7ms/step - loss: 0.0015\n",
      "Epoch 45/100\n",
      "2113/2113 [==============================] - 14s 7ms/step - loss: 0.0013\n",
      "Epoch 46/100\n",
      "2113/2113 [==============================] - 14s 7ms/step - loss: 0.0012\n",
      "Epoch 47/100\n",
      "2113/2113 [==============================] - 14s 7ms/step - loss: 0.0012\n",
      "Epoch 48/100\n",
      "2113/2113 [==============================] - 14s 7ms/step - loss: 0.0012\n",
      "Epoch 49/100\n",
      "2113/2113 [==============================] - 14s 7ms/step - loss: 0.0012\n",
      "Epoch 50/100\n",
      "2113/2113 [==============================] - 14s 7ms/step - loss: 0.0012\n",
      "Epoch 51/100\n",
      "2113/2113 [==============================] - 15s 7ms/step - loss: 0.0011\n",
      "Epoch 52/100\n",
      "2113/2113 [==============================] - 15s 7ms/step - loss: 0.0010\n",
      "Epoch 53/100\n",
      "2113/2113 [==============================] - 14s 7ms/step - loss: 0.0012\n",
      "Epoch 54/100\n",
      "2113/2113 [==============================] - 15s 7ms/step - loss: 0.0011\n",
      "Epoch 55/100\n",
      "2113/2113 [==============================] - 15s 7ms/step - loss: 0.0012\n",
      "Epoch 56/100\n",
      "2113/2113 [==============================] - 15s 7ms/step - loss: 0.0019\n",
      "Epoch 57/100\n",
      "2113/2113 [==============================] - 15s 7ms/step - loss: 0.0011\n",
      "Epoch 58/100\n",
      "2113/2113 [==============================] - 14s 7ms/step - loss: 0.0010\n",
      "Epoch 59/100\n",
      "2113/2113 [==============================] - 15s 7ms/step - loss: 0.0012\n",
      "Epoch 60/100\n",
      "2113/2113 [==============================] - 15s 7ms/step - loss: 0.0011\n",
      "Epoch 61/100\n",
      "2113/2113 [==============================] - 15s 7ms/step - loss: 0.0010\n",
      "Epoch 62/100\n",
      "2113/2113 [==============================] - 14s 7ms/step - loss: 0.0010\n",
      "Epoch 63/100\n",
      "2113/2113 [==============================] - 15s 7ms/step - loss: 0.0010\n",
      "Epoch 64/100\n",
      "2113/2113 [==============================] - 14s 7ms/step - loss: 0.0011\n",
      "Epoch 65/100\n",
      "2113/2113 [==============================] - 14s 7ms/step - loss: 0.0012\n",
      "Epoch 66/100\n",
      "2113/2113 [==============================] - 14s 6ms/step - loss: 0.0010\n",
      "Epoch 67/100\n",
      "2113/2113 [==============================] - 14s 7ms/step - loss: 9.7493e-04\n",
      "Epoch 68/100\n",
      "2113/2113 [==============================] - 14s 7ms/step - loss: 9.9156e-04\n",
      "Epoch 69/100\n",
      "2113/2113 [==============================] - 15s 7ms/step - loss: 9.6959e-04\n",
      "Epoch 70/100\n",
      "2113/2113 [==============================] - 14s 7ms/step - loss: 9.8116e-04\n",
      "Epoch 71/100\n",
      "2113/2113 [==============================] - 14s 7ms/step - loss: 9.6964e-04\n",
      "Epoch 72/100\n",
      "2113/2113 [==============================] - 15s 7ms/step - loss: 9.5016e-04\n",
      "Epoch 73/100\n",
      "2113/2113 [==============================] - 15s 7ms/step - loss: 9.3663e-04\n",
      "Epoch 74/100\n",
      "2113/2113 [==============================] - 15s 7ms/step - loss: 9.4496e-04\n",
      "Epoch 75/100\n",
      "2113/2113 [==============================] - 15s 7ms/step - loss: 8.2759e-04\n",
      "Epoch 76/100\n",
      "2113/2113 [==============================] - 15s 7ms/step - loss: 9.2902e-04\n",
      "Epoch 77/100\n",
      "2113/2113 [==============================] - 15s 7ms/step - loss: 0.0016\n",
      "Epoch 78/100\n",
      "2113/2113 [==============================] - 15s 7ms/step - loss: 9.1092e-04\n",
      "Epoch 79/100\n",
      "2113/2113 [==============================] - 17s 8ms/step - loss: 9.4973e-04\n",
      "Epoch 80/100\n",
      "2113/2113 [==============================] - 17s 8ms/step - loss: 8.4617e-04\n",
      "Epoch 81/100\n",
      "2113/2113 [==============================] - 16s 8ms/step - loss: 8.7909e-04\n",
      "Epoch 82/100\n",
      "2113/2113 [==============================] - 16s 7ms/step - loss: 9.5708e-04\n",
      "Epoch 83/100\n",
      "2113/2113 [==============================] - 15s 7ms/step - loss: 9.1759e-04\n",
      "Epoch 84/100\n",
      "2113/2113 [==============================] - 14s 7ms/step - loss: 9.1284e-04\n",
      "Epoch 85/100\n",
      "2113/2113 [==============================] - 14s 7ms/step - loss: 8.3344e-04\n",
      "Epoch 86/100\n",
      "2113/2113 [==============================] - 15s 7ms/step - loss: 8.9614e-04\n",
      "Epoch 87/100\n",
      "2113/2113 [==============================] - 14s 7ms/step - loss: 8.7739e-04\n",
      "Epoch 88/100\n",
      "2113/2113 [==============================] - 14s 7ms/step - loss: 8.1823e-04\n",
      "Epoch 89/100\n",
      "2113/2113 [==============================] - 13s 6ms/step - loss: 7.6163e-04\n",
      "Epoch 90/100\n",
      "2113/2113 [==============================] - 14s 7ms/step - loss: 8.8542e-04\n",
      "Epoch 91/100\n",
      "2113/2113 [==============================] - 17s 8ms/step - loss: 8.4809e-04\n",
      "Epoch 92/100\n"
     ]
    },
    {
     "name": "stdout",
     "output_type": "stream",
     "text": [
      "2113/2113 [==============================] - 15s 7ms/step - loss: 8.4582e-04\n",
      "Epoch 93/100\n",
      "2113/2113 [==============================] - 15s 7ms/step - loss: 8.7585e-04\n",
      "Epoch 94/100\n",
      "2113/2113 [==============================] - 14s 6ms/step - loss: 8.2503e-04\n",
      "Epoch 95/100\n",
      "2113/2113 [==============================] - 14s 7ms/step - loss: 8.0850e-04\n",
      "Epoch 96/100\n",
      "2113/2113 [==============================] - 14s 7ms/step - loss: 8.9631e-04\n",
      "Epoch 97/100\n",
      "2113/2113 [==============================] - 14s 7ms/step - loss: 0.0010\n",
      "Epoch 98/100\n",
      "2113/2113 [==============================] - 14s 7ms/step - loss: 8.8185e-04\n",
      "Epoch 99/100\n",
      "2113/2113 [==============================] - 15s 7ms/step - loss: 9.3012e-04\n",
      "Epoch 100/100\n",
      "2113/2113 [==============================] - 15s 7ms/step - loss: 7.8829e-04\n"
     ]
    },
    {
     "data": {
      "text/plain": [
       "<keras.callbacks.History at 0x240a0ac74e0>"
      ]
     },
     "execution_count": 27,
     "metadata": {},
     "output_type": "execute_result"
    }
   ],
   "source": [
    "# Fitting the RNN to the Training set\n",
    "regressor.fit(X_train, y_train, epochs = 100, batch_size = 32)"
   ]
  },
  {
   "cell_type": "markdown",
   "metadata": {},
   "source": [
    "#### Making predictions and visualizing the results"
   ]
  },
  {
   "cell_type": "code",
   "execution_count": 28,
   "metadata": {},
   "outputs": [],
   "source": [
    "real_stock_price = dataset_test.iloc[:, 1:2].values"
   ]
  },
  {
   "cell_type": "code",
   "execution_count": 29,
   "metadata": {},
   "outputs": [
    {
     "data": {
      "text/plain": [
       "[<matplotlib.lines.Line2D at 0x240a4097a20>]"
      ]
     },
     "execution_count": 29,
     "metadata": {},
     "output_type": "execute_result"
    },
    {
     "data": {
      "image/png": "[encoded data removed]",
      "text/plain": [
       "<Figure size 432x288 with 1 Axes>"
      ]
     },
     "metadata": {
      "needs_background": "light"
     },
     "output_type": "display_data"
    }
   ],
   "source": [
    "plt.plot(real_stock_price, color = 'red', label = 'Real Stock Price')"
   ]
  },
  {
   "cell_type": "code",
   "execution_count": 30,
   "metadata": {},
   "outputs": [],
   "source": [
    "dataset_total = pd.concat((dataset_train['Open'], dataset_test['Open']), axis = 0)\n",
    "inputs = dataset_total[len(dataset_total) - len(dataset_test) - 60:].values\n",
    "inputs = inputs.reshape(-1,1)\n",
    "inputs = sc.transform(inputs)\n",
    "X_test = []\n",
    "for i in range(60, 100):\n",
    "    X_test.append(inputs[i-60:i, 0])\n",
    "X_test = np.array(X_test)\n",
    "X_test = np.reshape(X_test, (X_test.shape[0], X_test.shape[1], 1))\n",
    "predicted_stock_price = regressor.predict(X_test)\n",
    "predicted_stock_price = sc.inverse_transform(predicted_stock_price)"
   ]
  },
  {
   "cell_type": "code",
   "execution_count": 31,
   "metadata": {},
   "outputs": [
    {
     "data": {
      "image/png": "[encoded data removed]",
      "text/plain": [
       "<Figure size 432x288 with 1 Axes>"
      ]
     },
     "metadata": {
      "needs_background": "light"
     },
     "output_type": "display_data"
    }
   ],
   "source": [
    "# Visualising the results\n",
    "plt.plot(real_stock_price, color = 'red', label = 'Real  Stock Price')\n",
    "plt.plot(predicted_stock_price, color = 'blue', label = 'Predicted  Stock Price')\n",
    "plt.title('Infosys Stock Price Prediction')\n",
    "plt.xlabel('Time')\n",
    "plt.ylabel('Infosys Stock Price')\n",
    "plt.legend()\n",
    "plt.show()"
   ]
  },
  {
   "cell_type": "markdown",
   "metadata": {},
   "source": [
    "#### Saving the model using pickle"
   ]
  },
  {
   "cell_type": "code",
   "execution_count": 32,
   "metadata": {},
   "outputs": [],
   "source": [
    "import pickle"
   ]
  },
  {
   "cell_type": "code",
   "execution_count": 33,
   "metadata": {},
   "outputs": [],
   "source": [
    "filename = 'finalized_model.sav'\n",
    "pickle.dump(regressor, open(filename, 'wb')) "
   ]
  },
  {
   "cell_type": "markdown",
   "metadata": {},
   "source": [
    "#### The model will be saved as 'finalized_model' and this model can be imported and reused"
   ]
  }
 ],
 "metadata": {
  "kernelspec": {
   "display_name": "Python 3",
   "language": "python",
   "name": "python3"
  },
  "language_info": {
   "codemirror_mode": {
    "name": "ipython",
    "version": 3
   },
   "file_extension": ".py",
   "mimetype": "text/x-python",
   "name": "python",
   "nbconvert_exporter": "python",
   "pygments_lexer": "ipython3",
   "version": "3.7.3"
  }
 },
 "nbformat": 4,
 "nbformat_minor": 2
}
